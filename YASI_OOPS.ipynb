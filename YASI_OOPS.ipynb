{
  "nbformat": 4,
  "nbformat_minor": 0,
  "metadata": {
    "colab": {
      "provenance": []
    },
    "kernelspec": {
      "name": "python3",
      "display_name": "Python 3"
    },
    "language_info": {
      "name": "python"
    }
  },
  "cells": [
    {
      "cell_type": "markdown",
      "source": [
        "# Python OOPs\n",
        "\n",
        "# 1. What is Object-Oriented Programming (OOP) ?\n",
        "-> Object-Oriented Programming (OOP)\n",
        "\n",
        "Object-Oriented Programming (OOP) is a programming paradigm that organizes software design around objects and the relationships between them. It emphasizes modularity, reusability, and abstraction.\n",
        "\n",
        "#2. What is a class in OOP ?\n",
        "-> Class in OOP\n",
        "\n",
        "In Object-Oriented Programming (OOP), a class is a blueprint or template that defines the properties and behavior of an object. It's a fundamental concept in OOP that helps create objects with similar characteristics and behaviors.\n",
        "\n",
        " # 3. What is an object in OOP ?\n",
        " -> Object in OOP\n",
        "\n",
        "In Object-Oriented Programming (OOP), an object is an instance of a class. It represents a real-world entity or abstract concept, and has its own set of attributes (data) and methods (functions).\n",
        "\n",
        "# 4. What is the difference between abstraction and encapsulation\n",
        "-> Abstraction vs Encapsulation\n",
        "\n",
        "Abstraction and encapsulation are two fundamental concepts in Object-Oriented Programming (OOP) that are often used together, but they serve different purposes.\n",
        "\n",
        "Abstraction:\n",
        "\n",
        "Abstraction is the process of exposing only the necessary information to the outside world while hiding the internal implementation details. It's about showing only the interface or the contract of an object, without revealing how it's implemented.\n",
        "\n",
        "Encapsulation:\n",
        "\n",
        "Encapsulation is the process of bundling data and methods that operate on that data within a single unit, such as a class or object. It's about hiding the internal state of an object from the outside world and controlling access to it through public methods.\n",
        "\n",
        "# 5. What are dunder methods in Python ?\n",
        "-> Dunder Methods in Python\n",
        "\n",
        "Dunder methods, short for \"double underscore\" methods, are special methods in Python that are surrounded by double underscores (__) on either side of the method name. They're also known as \"magic methods\" or \"special methods.\"\n",
        "\n",
        "# 6. Explain the concept of inheritance in OOP ?\n",
        "-> Inheritance in OOP\n",
        "\n",
        "Inheritance is a fundamental concept in Object-Oriented Programming (OOP) that allows one class to inherit the properties and behavior of another class. The inheriting class is called the subclass or derived class, while the class being inherited from is called the superclass or base class.\n",
        "\n",
        "# 7. What is polymorphism in OOP ?\n",
        "-> Polymorphism in OOP\n",
        "\n",
        "Polymorphism is a fundamental concept in Object-Oriented Programming (OOP) that allows objects of different classes to be treated as objects of a common superclass. It's the ability of an object to take on multiple forms, depending on the context in which it's used.\n",
        "\n",
        "\n",
        "# 8. How is encapsulation achieved in Python ?\n",
        "-> Encapsulation in Python\n",
        "\n",
        "Encapsulation is achieved in Python through the use of classes and objects. Python provides several ways to encapsulate data and behavior, including:\n",
        "\n",
        "1. Public attributes: Attributes that are accessible from anywhere in the program.\n",
        "2. Private attributes: Attributes that are prefixed with double underscore (__) and are intended to be private. Python performs name mangling on these attributes, making them more difficult to access directly.\n",
        "3. Protected attributes: Attributes that are prefixed with a single underscore (_) and are intended to be protected. While they can be accessed directly, it's generally considered a good practice to avoid doing so.\n",
        "\n",
        "# 9. What is a constructor in Python ?\n",
        "-> Constructor in Python\n",
        "\n",
        "A constructor in Python is a special method that is automatically called when an object of a class is created. It's used to initialize the attributes of the class and perform any other setup that's necessary for the object to function properly.\n",
        "\n",
        "# 10. What are class and static methods in Python ?\n",
        "-> Class and Static Methods in Python\n",
        "\n",
        "In Python, class and static methods are two types of methods that can be defined in a class. They differ in how they're called and what they're used for.\n",
        "\n",
        "Class Methods:\n",
        "\n",
        "A class method is a method that's bound to the class rather than an instance of the class. It's defined using the @classmethod decorator and takes the class as the first argument, typically referred to as cls.\n",
        "\n",
        "# 11. What is method overloading in Python ?\n",
        "-> Method Overloading in Python\n",
        "\n",
        "Method overloading is a feature in some programming languages that allows multiple methods with the same name to be defined, but with different parameter lists. However, Python does not directly support method overloading like some other languages.\n",
        "\n",
        "Why Python doesn't support method overloading:\n",
        "\n",
        "Python's dynamic typing and flexible function definition make method overloading less necessary. Instead, Python developers often use default argument values or variable-length argument lists to achieve similar functionality.\n",
        "\n",
        "Achieving method overloading-like behavior:\n",
        "\n",
        "You can achieve method overloading-like behavior in Python using:\n",
        "\n",
        "1. Default argument values: Define a method with default argument values to make some parameters optional.\n",
        "2. Variable-length argument lists: Use *args or **kwargs to accept a variable number of arguments.\n",
        "3. Single dispatch: Use the @singledispatch decorator from the functools module to define a single function that can be called with different types of arguments.\n",
        "\n",
        "# 12. What is method overriding in OOP ?\n",
        "-> Method Overriding in OOP\n",
        "\n",
        "Method overriding is a feature of Object-Oriented Programming (OOP) that allows a subclass to provide a different implementation of a method that is already defined in its superclass. The subclass method has the same name, return type, and parameter list as the superclass method, but it can have a different implementation.\n",
        "\n",
        "# 13. What is a property decorator in Python ?\n",
        "-> Property Decorator in Python\n",
        "\n",
        "A property decorator in Python is a way to implement getter, setter, and deleter methods for an attribute of a class. It allows you to control access to the attribute and perform actions when the attribute is accessed or modified.\n",
        "\n",
        "Why use property decorators:\n",
        "\n",
        "1. Encapsulation: Property decorators help encapsulate the internal state of an object by controlling access to its attributes.\n",
        "2. Validation: You can use property decorators to validate the values assigned to an attribute.\n",
        "3. Computed attributes: Property decorators can be used to implement computed attributes that are calculated on the fly.\n",
        "\n",
        "# 14. Why is polymorphism important in OOP ?\n",
        "-> Importance of Polymorphism in OOP\n",
        "\n",
        "Polymorphism is a fundamental concept in Object-Oriented Programming (OOP) that allows objects of different classes to be treated as objects of a common superclass. It's essential for creating flexible, maintainable, and scalable software systems.\n",
        "\n",
        "Benefits of polymorphism:\n",
        "\n",
        "1. Increased flexibility: Polymorphism allows objects of different classes to be used interchangeably, making it easier to write code that works with different types of objects.\n",
        "2. Easier maintenance: Polymorphism makes it easier to modify or extend existing code without affecting other parts of the system.\n",
        "3. Improved code reusability: Polymorphism enables code reusability, reducing duplication and improving maintainability.\n",
        "4. More realistic modeling: Polymorphism allows for more realistic modeling of real-world objects and systems, where objects can take on multiple forms and behaviors.\n",
        "\n",
        "# 15. What is an abstract class in Python ?\n",
        "-> Abstract Class in Python\n",
        "\n",
        "An abstract class in Python is a class that cannot be instantiated and is designed to be inherited by other classes. It's a way to define a common interface or base class for a group of related classes that share some common attributes and methods.\n",
        "\n",
        "Key characteristics:\n",
        "\n",
        "1. Cannot be instantiated: Abstract classes cannot be instantiated directly.\n",
        "2. Must be inherited: Abstract classes are designed to be inherited by other classes.\n",
        "3. May contain abstract methods: Abstract classes may contain abstract methods that must be implemented by subclasses.\n",
        "\n",
        "Abstract methods:\n",
        "\n",
        "Abstract methods are methods that are declared in an abstract class but do not have an implementation. They must be implemented by any non-abstract subclass.\n",
        "\n",
        "# 16. What are the advantages of OOP ?\n",
        "-> Advantages of Object-Oriented Programming (OOP)\n",
        "\n",
        "Object-Oriented Programming (OOP) offers several advantages that make it a popular and effective programming paradigm. Some of the key advantages of OOP include:\n",
        "\n",
        "1. Modularity: OOP allows for modular code that is easier to maintain, modify, and extend.\n",
        "2. Reusability: OOP enables code reusability through inheritance, polymorphism, and encapsulation.\n",
        "3. Abstraction: OOP provides abstraction, which helps to hide complex implementation details and show only the necessary information.\n",
        "4. Encapsulation: OOP encapsulates data and behavior, making it harder for other parts of the program to access or modify them directly.\n",
        "5. Inheritance: OOP allows for inheritance, which enables code reuse and facilitates the creation of a hierarchy of related classes.\n",
        "6. Polymorphism: OOP provides polymorphism, which enables objects of different classes to be treated as objects of a common superclass.\n",
        "7. Easier debugging: OOP makes it easier to debug code by providing a clear and organized structure.\n",
        "8. Improved code readability: OOP improves code readability by providing a clear and concise way of organizing code.\n",
        "\n",
        "# 17. What is multiple inheritance in Python ?\n",
        "-> Multiple Inheritance in Python\n",
        "\n",
        "Multiple inheritance in Python is a feature that allows a class to inherit properties and behavior from more than one superclass. This means that a subclass can inherit attributes and methods from multiple parent classes.\n",
        "\n",
        "# 18. What is the difference between a class variable and an instance variable ?\n",
        "-> Class Variables vs Instance Variables\n",
        "\n",
        "In Python, class variables and instance variables are two types of variables that can be defined in a class.\n",
        "\n",
        "Class Variables:\n",
        "\n",
        "1. Shared among all instances: Class variables are shared among all instances of a class.\n",
        "2. Defined at the class level: Class variables are defined at the class level, outside of any method.\n",
        "3. Accessed using the class name: Class variables can be accessed using the class name or an instance of the class.\n",
        "\n",
        "Instance Variables:\n",
        "\n",
        "1. Unique to each instance: Instance variables are unique to each instance of a class.\n",
        "2. Defined at the instance level: Instance variables are defined at the instance level, typically in the __init__ method.\n",
        "3. Accessed using the instance name: Instance variables can only be accessed using the instance name.\n",
        "\n",
        "# 19. Explain the purpose of ‘’__str__’ and ‘__repr__’ ‘ methods in Python ?\n",
        "-> *__str__ and __repr__ Methods in Python*\n",
        "\n",
        "In Python, __str__ and __repr__ are two special methods that can be defined in a class to provide a string representation of an object.\n",
        "\n",
        "*__str__ Method:*\n",
        "\n",
        "1. Human-readable representation: The __str__ method returns a human-readable string representation of an object.\n",
        "2. Used for display: The __str__ method is used when you want to display an object in a user-friendly way.\n",
        "\n",
        "*__repr__ Method:*\n",
        "\n",
        "1. Unambiguous representation: The __repr__ method returns an unambiguous string representation of an object that can be used to recreate the object.\n",
        "2. Used for debugging: The __repr__ method is used for debugging and logging purposes.\n",
        "\n",
        "#20. What is the significance of the ‘super()’ function in Python ?\n",
        "-> Significance of super() Function in Python*\n",
        "\n",
        "The super() function in Python is used to access methods and properties of a parent class (also known as a superclass) from a child class (also known as a subclass). It allows you to override methods in the parent class while still being able to call the original method.\n",
        "\n",
        "Benefits:\n",
        "\n",
        "1. Method overriding: super() enables method overriding, which allows you to provide a specific implementation of a method in the child class while still calling the parent class's method.\n",
        "2. Code reuse: super() promotes code reuse by allowing you to call the parent class's methods and properties from the child class.\n",
        "3. Flexibility: super() provides flexibility in designing class hierarchies and allows for more complex inheritance relationships.\n",
        "\n",
        "# 21. What is the significance of the __del__ method in Python ?\n",
        "-> *Significance of __del__ Method in Python*\n",
        "\n",
        "The __del__ method in Python is a special method that is called when an object is about to be destroyed. It's also known as a finalizer or destructor.\n",
        "\n",
        "Purpose:\n",
        "\n",
        "1. Resource cleanup: The __del__ method is used to release resources, such as file handles, network connections, or database connections, when an object is no longer needed.\n",
        "2. Cleanup actions: The __del__ method can be used to perform any necessary cleanup actions, such as closing files or releasing locks.\n",
        "\n",
        "# 22. What is the difference between @staticmethod and @classmethod in  Python ?\n",
        "-> *@staticmethod vs @classmethod in Python*\n",
        "\n",
        "In Python, @staticmethod and @classmethod are two types of decorators that can be used to define methods in a class.\n",
        "\n",
        "*@staticmethod*\n",
        "\n",
        "1. No implicit first argument: A static method does not receive an implicit first argument, like self or cls.\n",
        "2. Belongs to the class: A static method belongs to the class itself, rather than an instance of the class.\n",
        "3. Use for utility functions: Static methods are often used for utility functions that don't depend on the state of an instance.\n",
        "\n",
        "*@classmethod*\n",
        "\n",
        "1. Implicit first argument: A class method receives an implicit first argument, cls, which refers to the class itself.\n",
        "2. Access to class state: A class method has access to the class state and can modify it.\n",
        "3. Use for alternative constructors: Class methods are often used as alternative constructors or to implement singleton patterns.\n",
        "\n",
        "# 23. How does polymorphism work in Python with inheritance ?\n",
        "-> Polymorphism with Inheritance in Python\n",
        "\n",
        "Polymorphism is the ability of an object to take on multiple forms, depending on the context in which it's used. In Python, polymorphism can be achieved through inheritance, where a subclass inherits the properties and behavior of a parent class and can also add new behavior or override existing behavior.\n",
        "\n",
        "# 24. What is method chaining in Python OOP ?\n",
        "-> Method Chaining in Python OOP\n",
        "\n",
        "Method chaining is a technique in Python Object-Oriented Programming (OOP) where multiple methods are called on the same object in a single statement. Each method returns the object itself, allowing the next method to be called on the same object.\n",
        "\n",
        "# 25. What is the purpose of the __call__ method in Python\n",
        "-> *__call__ Method in Python*\n",
        "\n",
        "The __call__ method in Python is a special method that allows an instance of a class to be called as a function. This method is invoked when an object is called using parentheses ().\n",
        "\n",
        "Purpose:\n",
        "\n",
        "1. Make instances callable: The __call__ method makes instances of a class callable, allowing them to behave like functions.\n",
        "2. Implement function-like behavior: The __call__ method can be used to implement function-like behavior in a class, such as performing calculations or executing code.\n",
        "\n",
        "\n",
        "\n",
        "\n",
        "\n",
        "\n",
        "\n",
        "\n",
        "\n",
        "\n",
        "\n"
      ],
      "metadata": {
        "id": "yZhh301WclY3"
      }
    },
    {
      "cell_type": "code",
      "execution_count": 32,
      "metadata": {
        "id": "f3vo1rpQa1dH",
        "colab": {
          "base_uri": "https://localhost:8080/",
          "height": 110
        },
        "outputId": "c0cebe6e-2a8c-491f-c72a-d00a13c147a4"
      },
      "outputs": [
        {
          "output_type": "error",
          "ename": "IndentationError",
          "evalue": "unexpected indent (ipython-input-3092619140.py, line 4)",
          "traceback": [
            "\u001b[0;36m  File \u001b[0;32m\"/tmp/ipython-input-3092619140.py\"\u001b[0;36m, line \u001b[0;32m4\u001b[0m\n\u001b[0;31m    ''\u001b[0m\n\u001b[0m    ^\u001b[0m\n\u001b[0;31mIndentationError\u001b[0m\u001b[0;31m:\u001b[0m unexpected indent\n"
          ]
        }
      ],
      "source": [
        "# Python OOPs Practical questions\n",
        "\n",
        " # 1. Create a parent class Animal with a method speak() that prints a generic message. Create a child class Dog that overrides the speak() method to print \"Bark!\".\n",
        " '''\n",
        " class Animal:\n",
        "    def speak(self):\n",
        "        print(\"The animal makes a sound.\")\n",
        "\n",
        "class Dog(Animal):\n",
        "    def speak(self):\n",
        "        print(\"Bark!\")\n",
        "\n",
        "# Create instances\n",
        "animal = Animal()\n",
        "dog = Dog()\n",
        "\n",
        "# Call speak() method\n",
        "animal.speak()  # Output: The animal makes a sound.\n",
        "dog.speak()  # Output: Bark!\n",
        "'''\n",
        ""
      ]
    },
    {
      "cell_type": "code",
      "source": [
        "# 2. Write a program to create an abstract class Shape with a method area(). Derive classes Circle and Rectangle from it and implement the area() method in both.\n",
        "'''\n",
        "# Derived class Rectangle\n",
        "class Rectangle(Shape):\n",
        "    def __init__(self, length, width):\n",
        "        super().__init__(\"Rectangle\")\n",
        "        self.length = length\n",
        "        self.width = width\n",
        "\n",
        "    def area(self):\n",
        "        return self.length * self.width\n",
        "\n",
        "# Derived class Rectangle\n",
        "class Rectangle(Shape):\n",
        "    def __init__(self, length, width):\n",
        "        super().__init__(\"Rectangle\")\n",
        "        self.length = length\n",
        "        self.width = width\n",
        "            def area(self):\n",
        "        return self.length * self.width\n",
        "\n",
        "'''\n",
        "\n"
      ],
      "metadata": {
        "colab": {
          "base_uri": "https://localhost:8080/",
          "height": 72
        },
        "id": "XMEX5RrxgFaj",
        "outputId": "543523ad-6dbf-47ad-8413-661d85c62203"
      },
      "execution_count": 9,
      "outputs": [
        {
          "output_type": "execute_result",
          "data": {
            "text/plain": [
              "'\\n# Derived class Rectangle\\nclass Rectangle(Shape):\\n    def __init__(self, length, width):\\n        super().__init__(\"Rectangle\")\\n        self.length = length\\n        self.width = width\\n\\n    def area(self):\\n        return self.length * self.width\\n\\n# Derived class Rectangle\\nclass Rectangle(Shape):\\n    def __init__(self, length, width):\\n        super().__init__(\"Rectangle\")\\n        self.length = length\\n        self.width = width\\n            def area(self):\\n        return self.length * self.width\\n\\n'"
            ],
            "application/vnd.google.colaboratory.intrinsic+json": {
              "type": "string"
            }
          },
          "metadata": {},
          "execution_count": 9
        }
      ]
    },
    {
      "cell_type": "markdown",
      "source": [],
      "metadata": {
        "id": "vrkrBCcjckOu"
      }
    },
    {
      "cell_type": "code",
      "source": [
        "# 3 Implement a multi-level inheritance scenario where a class Vehicle has an attribute type. Derive a class Car and further derive a class ElectricCar that adds a battery attribute.\n",
        "''\n",
        "class Vehicle:\n",
        "    def __init__(self, type):\n",
        "        self.type = type\n",
        "\n",
        "    def display_info(self):\n",
        "        print(f\"Type: {self.type}\")\n",
        "\n",
        "class Car(Vehicle):\n",
        "    def __init__(self, type, brand, model):\n",
        "        super().__init__(type)\n",
        "        self.brand = brand\n",
        "        self.model = model\n",
        "\n",
        "    def display_info(self):\n",
        "        super().display_info()\n",
        "        print(f\"Brand: {self.brand}\")\n",
        "        print(f\"Model: {self.model}\")\n",
        "\n",
        "class ElectricCar(Car):\n",
        "    def __init__(self, type, brand, model, battery_capacity):\n",
        "        super().__init__(type, brand, model)\n",
        "        self.battery_capacity = battery_capacity\n",
        "\n",
        "    def display_info(self):\n",
        "        super().display_info()\n",
        "        print(f\"Battery Capacity: {self.battery_capacity} kWh\")\n",
        "# Create an instance of ElectricCar\n",
        "my_car = ElectricCar(\"Electric Vehicle\", \"Tesla\", \"Model S\", 100)\n",
        "\n",
        "# Display information about the ElectricCar\n",
        "my_car.display_info()\n",
        "''\n"
      ],
      "metadata": {
        "colab": {
          "base_uri": "https://localhost:8080/",
          "height": 108
        },
        "id": "WOc3oRdzi7kQ",
        "outputId": "6a144f29-0b8c-4092-dc37-f383dfc0e884"
      },
      "execution_count": 10,
      "outputs": [
        {
          "output_type": "stream",
          "name": "stdout",
          "text": [
            "Type: Electric Vehicle\n",
            "Brand: Tesla\n",
            "Model: Model S\n",
            "Battery Capacity: 100 kWh\n"
          ]
        },
        {
          "output_type": "execute_result",
          "data": {
            "text/plain": [
              "''"
            ],
            "application/vnd.google.colaboratory.intrinsic+json": {
              "type": "string"
            }
          },
          "metadata": {},
          "execution_count": 10
        }
      ]
    },
    {
      "cell_type": "code",
      "source": [
        "# 4. Demonstrate polymorphism by creating a base class Bird with a method fly(). Create two derived classes Sparrow and Penguin that override the fly() method.\n",
        "''\n",
        "class Bird:\n",
        "    def fly(self):\n",
        "        print(\"The bird is flying.\")\n",
        "\n",
        "class Sparrow(Bird):\n",
        "    def fly(self):\n",
        "        print(\"The sparrow is flying swiftly.\")\n",
        "\n",
        "class Penguin(Bird):\n",
        "    def fly(self):\n",
        "        print(\"Penguins cannot fly. They swim instead.\")\n",
        "\n",
        "# Create instances of Bird classes\n",
        "birds = [\n",
        "    Bird(),\n",
        "    Sparrow(),\n",
        "    Penguin()\n",
        "]\n",
        "\n",
        "# Demonstrate polymorphism\n",
        "for bird in birds:\n",
        "    bird.fly()\n",
        "\n",
        "''"
      ],
      "metadata": {
        "colab": {
          "base_uri": "https://localhost:8080/",
          "height": 90
        },
        "id": "ufM9HGhujmho",
        "outputId": "73a7c7ec-94c1-4ffc-ec1e-afd817f26ea9"
      },
      "execution_count": 11,
      "outputs": [
        {
          "output_type": "stream",
          "name": "stdout",
          "text": [
            "The bird is flying.\n",
            "The sparrow is flying swiftly.\n",
            "Penguins cannot fly. They swim instead.\n"
          ]
        },
        {
          "output_type": "execute_result",
          "data": {
            "text/plain": [
              "''"
            ],
            "application/vnd.google.colaboratory.intrinsic+json": {
              "type": "string"
            }
          },
          "metadata": {},
          "execution_count": 11
        }
      ]
    },
    {
      "cell_type": "code",
      "source": [
        "# 5. Write a program to demonstrate encapsulation by creating a class BankAccount with private attributes balance and methods to deposit, withdraw, and check balance.\n",
        "''\n",
        "class BankAccount:\n",
        "    def __init__(self, initial_balance=0):\n",
        "        self.__balance = initial_balance\n",
        "\n",
        "    def deposit(self, amount):\n",
        "        if amount > 0:\n",
        "            self.__balance += amount\n",
        "            print(f\"Deposited ${amount:.2f}. New balance: ${self.__balance:.2f}\")\n",
        "        else:\n",
        "            print(\"Invalid deposit amount.\")\n",
        "\n",
        "    def withdraw(self, amount):\n",
        "        if 0 < amount <= self.__balance:\n",
        "            self.__balance -= amount\n",
        "            print(f\"Withdrew ${amount:.2f}. New balance: ${self.__balance:.2f}\")\n",
        "        elif amount <= 0:\n",
        "            print(\"Invalid withdrawal amount.\")\n",
        "        else:\n",
        "            print(\"Insufficient funds.\")\n",
        "\n",
        "    def check_balance(self):\n",
        "        print(f\"Current balance: ${self.__balance:.2f}\")\n",
        "\n",
        "# Create an instance of BankAccount\n",
        "account = BankAccount(1000)\n",
        "# Deposit, withdraw, and check balance\n",
        "account.check_balance()\n",
        "account.deposit(500)\n",
        "account.withdraw(200)\n",
        "account.check_balance()\n",
        "\n",
        "''\n",
        "\n"
      ],
      "metadata": {
        "colab": {
          "base_uri": "https://localhost:8080/",
          "height": 108
        },
        "id": "NFiKWhMpj9-Q",
        "outputId": "d7a132d7-dc73-419a-9199-9ec66ad45dc0"
      },
      "execution_count": 12,
      "outputs": [
        {
          "output_type": "stream",
          "name": "stdout",
          "text": [
            "Current balance: $1000.00\n",
            "Deposited $500.00. New balance: $1500.00\n",
            "Withdrew $200.00. New balance: $1300.00\n",
            "Current balance: $1300.00\n"
          ]
        },
        {
          "output_type": "execute_result",
          "data": {
            "text/plain": [
              "''"
            ],
            "application/vnd.google.colaboratory.intrinsic+json": {
              "type": "string"
            }
          },
          "metadata": {},
          "execution_count": 12
        }
      ]
    },
    {
      "cell_type": "code",
      "source": [
        " # 6. Demonstrate runtime polymorphism using a method play() in a base class Instrument. Derive classes Guitar and Piano that implement their own version of play().\n",
        " ''\n",
        " class Instrument:\n",
        "    def play(self):\n",
        "        print(\"The instrument is playing.\")\n",
        "\n",
        "class Guitar(Instrument):\n",
        "    def play(self):\n",
        "        print(\"The guitar is strumming.\")\n",
        "\n",
        "class Piano(Instrument):\n",
        "    def play(self):\n",
        "        print(\"The piano is being played.\")\n",
        "\n",
        "# Create instances of Instrument classes\n",
        "instruments = [\n",
        "    Instrument(),\n",
        "    Guitar(),\n",
        "    Piano()\n",
        "]\n",
        "\n",
        "# Demonstrate runtime polymorphism\n",
        "for instrument in instruments:\n",
        "    instrument.play()\n",
        "''"
      ],
      "metadata": {
        "colab": {
          "base_uri": "https://localhost:8080/",
          "height": 90
        },
        "id": "pfHcAlaDkTgU",
        "outputId": "716514f2-3163-4642-fb2c-66a747e74ca7"
      },
      "execution_count": 13,
      "outputs": [
        {
          "output_type": "stream",
          "name": "stdout",
          "text": [
            "The instrument is playing.\n",
            "The guitar is strumming.\n",
            "The piano is being played.\n"
          ]
        },
        {
          "output_type": "execute_result",
          "data": {
            "text/plain": [
              "''"
            ],
            "application/vnd.google.colaboratory.intrinsic+json": {
              "type": "string"
            }
          },
          "metadata": {},
          "execution_count": 13
        }
      ]
    },
    {
      "cell_type": "code",
      "source": [
        "# 7. Create a class MathOperations with a class method add_numbers() to add two numbers and a static method subtract_numbers() to subtract two numbers.\n",
        "''\n",
        "\n",
        "class MathOperations:\n",
        "    @classmethod\n",
        "    def add_numbers(cls, num1, num2):\n",
        "        return num1 + num2\n",
        "\n",
        "    @staticmethod\n",
        "    def subtract_numbers(num1, num2):\n",
        "        return num1 - num2\n",
        "\n",
        "# Call class method\n",
        "result_add = MathOperations.add_numbers(10, 5)\n",
        "print(f\"Addition result: {result_add}\")\n",
        "\n",
        "# Call static method\n",
        "result_subtract = MathOperations.subtract_numbers(10, 5)\n",
        "print(f\"Subtraction result: {result_subtract}\")\n",
        "\n",
        "''\n"
      ],
      "metadata": {
        "colab": {
          "base_uri": "https://localhost:8080/",
          "height": 72
        },
        "id": "Xo9dI7qnkw9b",
        "outputId": "c0987bb2-34c2-42f6-fa01-efbf8e6fc142"
      },
      "execution_count": 14,
      "outputs": [
        {
          "output_type": "stream",
          "name": "stdout",
          "text": [
            "Addition result: 15\n",
            "Subtraction result: 5\n"
          ]
        },
        {
          "output_type": "execute_result",
          "data": {
            "text/plain": [
              "''"
            ],
            "application/vnd.google.colaboratory.intrinsic+json": {
              "type": "string"
            }
          },
          "metadata": {},
          "execution_count": 14
        }
      ]
    },
    {
      "cell_type": "code",
      "source": [
        "# 8. Implement a class Person with a class method to count the total number of persons created.\n",
        "''\n",
        "\n",
        "class Person:\n",
        "    total_persons = 0\n",
        "\n",
        "    def __init__(self, name):\n",
        "        self.name = name\n",
        "        Person.total_persons += 1\n",
        "\n",
        "    @classmethod\n",
        "    def get_total_persons(cls):\n",
        "        return cls.total_persons\n",
        "\n",
        "# Create instances of Person\n",
        "person1 = Person(\"John\")\n",
        "person2 = Person(\"Alice\")\n",
        "person3 = Person(\"Bob\")\n",
        "\n",
        "# Get total number of persons\n",
        "total_persons = Person.get_total_persons()\n",
        "print(f\"Total persons: {total_persons}\")\n",
        "\n",
        "\n",
        "''"
      ],
      "metadata": {
        "colab": {
          "base_uri": "https://localhost:8080/",
          "height": 54
        },
        "id": "ogK3XFWFk9db",
        "outputId": "52f2d35a-eaf6-4860-ae34-a2180914e3d3"
      },
      "execution_count": 15,
      "outputs": [
        {
          "output_type": "stream",
          "name": "stdout",
          "text": [
            "Total persons: 3\n"
          ]
        },
        {
          "output_type": "execute_result",
          "data": {
            "text/plain": [
              "''"
            ],
            "application/vnd.google.colaboratory.intrinsic+json": {
              "type": "string"
            }
          },
          "metadata": {},
          "execution_count": 15
        }
      ]
    },
    {
      "cell_type": "code",
      "source": [
        "# 9. Write a class Fraction with attributes numerator and denominator. Override the str method to display the fraction as \"numerator/denominator\".\n",
        "''\n",
        "class Fraction:\n",
        "    def __init__(self, numerator, denominator):\n",
        "        if denominator == 0:\n",
        "            raise ValueError(\"Denominator cannot be zero\")\n",
        "        self.numerator = numerator\n",
        "        self.denominator = denominator\n",
        "\n",
        "    def __str__(self):\n",
        "        return f\"{self.numerator}/{self.denominator}\"\n",
        "\n",
        "# Create instances of Fraction\n",
        "fraction1 = Fraction(1, 2)\n",
        "fraction2 = Fraction(3, 4)\n",
        "\n",
        "# Display fractions\n",
        "print(fraction1)  # Output: 1/2\n",
        "print(fraction2)  # Output: 3/4\n",
        "\n",
        "\n",
        "''"
      ],
      "metadata": {
        "colab": {
          "base_uri": "https://localhost:8080/",
          "height": 72
        },
        "id": "j9zw41TylbCO",
        "outputId": "e4e6c2b3-e0da-4921-9719-3b1ce91ffa59"
      },
      "execution_count": 16,
      "outputs": [
        {
          "output_type": "stream",
          "name": "stdout",
          "text": [
            "1/2\n",
            "3/4\n"
          ]
        },
        {
          "output_type": "execute_result",
          "data": {
            "text/plain": [
              "''"
            ],
            "application/vnd.google.colaboratory.intrinsic+json": {
              "type": "string"
            }
          },
          "metadata": {},
          "execution_count": 16
        }
      ]
    },
    {
      "cell_type": "code",
      "source": [
        "# 10. Demonstrate operator overloading by creating a class Vector and overriding the add method to add two vectors.\n",
        "''\n",
        "class Vector:\n",
        "    def __init__(self, x, y):\n",
        "        self.x = x\n",
        "        self.y = y\n",
        "\n",
        "    def __add__(self, other):\n",
        "        return Vector(self.x + other.x, self.y + other.y)\n",
        "\n",
        "    def __str__(self):\n",
        "        return f\"({self.x}, {self.y})\"\n",
        "\n",
        "# Create instances of Vector\n",
        "vector1 = Vector(2, 3)\n",
        "vector2 = Vector(4, 5)\n",
        "\n",
        "# Add vectors\n",
        "result = vector1 + vector2\n",
        "\n",
        "# Display result\n",
        "print(f\"Vector 1: {vector1}\")\n",
        "print(f\"Vector 2: {vector2}\")\n",
        "print(f\"Result: {result}\")\n",
        "\n",
        "\n",
        "''"
      ],
      "metadata": {
        "colab": {
          "base_uri": "https://localhost:8080/",
          "height": 90
        },
        "id": "NuQQTW50lv_H",
        "outputId": "4f4c1171-7a58-4574-9557-2cf2277a83a9"
      },
      "execution_count": 17,
      "outputs": [
        {
          "output_type": "stream",
          "name": "stdout",
          "text": [
            "Vector 1: (2, 3)\n",
            "Vector 2: (4, 5)\n",
            "Result: (6, 8)\n"
          ]
        },
        {
          "output_type": "execute_result",
          "data": {
            "text/plain": [
              "''"
            ],
            "application/vnd.google.colaboratory.intrinsic+json": {
              "type": "string"
            }
          },
          "metadata": {},
          "execution_count": 17
        }
      ]
    },
    {
      "cell_type": "code",
      "source": [
        "# 11. Create a class Person with attributes name and age. Add a method greet() that prints \"Hello, my name is {name} and I am {age} years old.\"\n",
        "''\n",
        "class Person:\n",
        "    def __init__(self, name, age):\n",
        "        self.name = name\n",
        "        self.age = age\n",
        "\n",
        "    def greet(self):\n",
        "        print(f\"Hello, my name is {self.name} and I am {self.age} years old.\")\n",
        "\n",
        "# Create instances of Person\n",
        "person1 = Person(\"John\", 30)\n",
        "person2 = Person(\"Alice\", 25)\n",
        "\n",
        "# Call greet method\n",
        "person1.greet()\n",
        "person2.greet()\n",
        "''\n"
      ],
      "metadata": {
        "colab": {
          "base_uri": "https://localhost:8080/",
          "height": 72
        },
        "id": "tia4ZvZ4mIyx",
        "outputId": "5997a657-a540-4623-ac36-618ec0eca82f"
      },
      "execution_count": 18,
      "outputs": [
        {
          "output_type": "stream",
          "name": "stdout",
          "text": [
            "Hello, my name is John and I am 30 years old.\n",
            "Hello, my name is Alice and I am 25 years old.\n"
          ]
        },
        {
          "output_type": "execute_result",
          "data": {
            "text/plain": [
              "''"
            ],
            "application/vnd.google.colaboratory.intrinsic+json": {
              "type": "string"
            }
          },
          "metadata": {},
          "execution_count": 18
        }
      ]
    },
    {
      "cell_type": "code",
      "source": [
        "# 12. Implement a class Student with attributes name and grades. Create a method average_grade() to compute the average of the grades.\n",
        "''\n",
        "class Student:\n",
        "    def __init__(self, name, grades=None):\n",
        "        self.name = name\n",
        "        self.grades = grades if grades is not None else []\n",
        "\n",
        "    def average_grade(self):\n",
        "        if len(self.grades) == 0:\n",
        "            return 0\n",
        "        return sum(self.grades) / len(self.grades)\n",
        "\n",
        "    def add_grade(self, grade):\n",
        "        self.grades.append(grade)\n",
        "\n",
        "# Create instances of Student\n",
        "student1 = Student(\"John\", [85, 90, 78])\n",
        "student2 = Student(\"Alice\")\n",
        "\n",
        "# Add grades\n",
        "student2.add_grade(95)\n",
        "student2.add_grade(88)\n",
        "student2.add_grade(92)\n",
        "\n",
        "# Compute average grade\n",
        "average1 = student1.average_grade()\n",
        "average2 = student2.average_grade()\n",
        "\n",
        "# Display results\n",
        "print(f\"{student1.name}'s average grade: {average1:.2f}\")\n",
        "print(f\"{student2.name}'s average grade: {average2:.2f}\")\n",
        "''\n"
      ],
      "metadata": {
        "colab": {
          "base_uri": "https://localhost:8080/",
          "height": 72
        },
        "id": "u9OsR2_JmfBW",
        "outputId": "c1e069b8-8415-469d-b7cd-5cf253b4f1dd"
      },
      "execution_count": 19,
      "outputs": [
        {
          "output_type": "stream",
          "name": "stdout",
          "text": [
            "John's average grade: 84.33\n",
            "Alice's average grade: 91.67\n"
          ]
        },
        {
          "output_type": "execute_result",
          "data": {
            "text/plain": [
              "''"
            ],
            "application/vnd.google.colaboratory.intrinsic+json": {
              "type": "string"
            }
          },
          "metadata": {},
          "execution_count": 19
        }
      ]
    },
    {
      "cell_type": "code",
      "source": [
        "# 13. Create a class Rectangle with methods set_dimensions() to set the dimensions and area() to calculate the area.\n",
        "''\n",
        "class Rectangle:\n",
        "    def __init__(self, length=0, width=0):\n",
        "        self.length = length\n",
        "        self.width = width\n",
        "\n",
        "    def set_dimensions(self, length, width):\n",
        "        if length < 0 or width < 0:\n",
        "            raise ValueError(\"Length and width cannot be negative\")\n",
        "        self.length = length\n",
        "        self.width = width\n",
        "\n",
        "    def area(self):\n",
        "        return self.length * self.width\n",
        "\n",
        "# Create instances of Rectangle\n",
        "rectangle1 = Rectangle()\n",
        "rectangle1.set_dimensions(5, 4)\n",
        "\n",
        "rectangle2 = Rectangle(6, 3)\n",
        "# Calculate area\n",
        "area1 = rectangle1.area()\n",
        "area2 = rectangle2.area()\n",
        "\n",
        "# Display results\n",
        "print(f\"Rectangle 1 area: {area1}\")\n",
        "print(f\"Rectangle 2 area: {area2}\")\n",
        "\n",
        "''\n",
        "\n"
      ],
      "metadata": {
        "colab": {
          "base_uri": "https://localhost:8080/",
          "height": 72
        },
        "id": "QFI1C4nsnRfc",
        "outputId": "a3cd7aed-aa94-4c3a-9c7c-a4ee2ed2cebc"
      },
      "execution_count": 20,
      "outputs": [
        {
          "output_type": "stream",
          "name": "stdout",
          "text": [
            "Rectangle 1 area: 20\n",
            "Rectangle 2 area: 18\n"
          ]
        },
        {
          "output_type": "execute_result",
          "data": {
            "text/plain": [
              "''"
            ],
            "application/vnd.google.colaboratory.intrinsic+json": {
              "type": "string"
            }
          },
          "metadata": {},
          "execution_count": 20
        }
      ]
    },
    {
      "cell_type": "code",
      "source": [
        "# 14. Create a class Employee with a method calculate_salary() that computes the salary based on hours worked and hourly rate. Create a derived class Manager that adds a bonus to the salary. Java + DSA Pwskills\n",
        "'''\n",
        "// Employee.java\n",
        "public class Employee {\n",
        "    private double hourlyRate;\n",
        "    private double hoursWorked;\n",
        "\n",
        "    public Employee(double hourlyRate, double hoursWorked) {\n",
        "        this.hourlyRate = hourlyRate;\n",
        "        this.hoursWorked = hoursWorked;\n",
        "    }\n",
        "\n",
        "    public double calculateSalary() {\n",
        "        return hourlyRate * hoursWorked;\n",
        "    }\n",
        "}\n",
        "\n",
        "// Manager.java\n",
        "public class Manager extends Employee {\n",
        "    private double bonus;\n",
        "\n",
        "    public Manager(double hourlyRate, double hoursWorked, double bonus) {\n",
        "        super(hourlyRate, hoursWorked);\n",
        "        this.bonus = bonus;\n",
        "    }\n",
        "\n",
        "    @Override\n",
        "    public double calculateSalary() {\n",
        "        return super.calculateSalary() + bonus;\n",
        "    }\n",
        "}\n",
        "// Main.java\n",
        "public class Main {\n",
        "    public static void main(String[] args) {\n",
        "        Employee employee = new Employee(50, 40);\n",
        "        Manager manager = new Manager(50, 40, 1000);\n",
        "\n",
        "        System.out.println(\"Employee salary: \" + employee.calculateSalary());\n",
        "        System.out.println(\"Manager salary: \" + manager.calculateSalary());\n",
        "    }\n",
        "}\n",
        "\n",
        "\n",
        "'''\n"
      ],
      "metadata": {
        "colab": {
          "base_uri": "https://localhost:8080/",
          "height": 110
        },
        "id": "t8o8qfrZne10",
        "outputId": "7a3afe3f-6633-4d36-9dd8-fa14bd2fab17"
      },
      "execution_count": 31,
      "outputs": [
        {
          "output_type": "error",
          "ename": "SyntaxError",
          "evalue": "invalid syntax (ipython-input-3239391968.py, line 3)",
          "traceback": [
            "\u001b[0;36m  File \u001b[0;32m\"/tmp/ipython-input-3239391968.py\"\u001b[0;36m, line \u001b[0;32m3\u001b[0m\n\u001b[0;31m    // Employee.java\u001b[0m\n\u001b[0m    ^\u001b[0m\n\u001b[0;31mSyntaxError\u001b[0m\u001b[0;31m:\u001b[0m invalid syntax\n"
          ]
        }
      ]
    },
    {
      "cell_type": "code",
      "source": [
        "# 15. Create a class Product with attributes name, price, and quantity. Implement a method total_price() that calculates the total price of the product.\n",
        "''\n",
        "class Product:\n",
        "    def __init__(self, name, price, quantity):\n",
        "        self.name = name\n",
        "        self.price = price\n",
        "        self.quantity = quantity\n",
        "\n",
        "    def total_price(self):\n",
        "        return self.price * self.quantity\n",
        "\n",
        "# Create instances of Product\n",
        "product1 = Product(\"Apple\", 1.00, 5)\n",
        "product2 = Product(\"Banana\", 0.50, 10)\n",
        "\n",
        "# Calculate total price\n",
        "total_price1 = product1.total_price()\n",
        "total_price2 = product2.total_price()\n",
        "\n",
        "# Display results\n",
        "print(f\"Product: {product1.name}, Total Price: ${total_price1:.2f}\")\n",
        "print(f\"Product: {product2.name}, Total Price: ${total_price2:.2f}\")\n",
        "\n",
        "''\n"
      ],
      "metadata": {
        "colab": {
          "base_uri": "https://localhost:8080/",
          "height": 72
        },
        "id": "0WbA_NIDohfP",
        "outputId": "4f2c0ada-a8a3-415d-c6fe-90181efaa029"
      },
      "execution_count": 24,
      "outputs": [
        {
          "output_type": "stream",
          "name": "stdout",
          "text": [
            "Product: Apple, Total Price: $5.00\n",
            "Product: Banana, Total Price: $5.00\n"
          ]
        },
        {
          "output_type": "execute_result",
          "data": {
            "text/plain": [
              "''"
            ],
            "application/vnd.google.colaboratory.intrinsic+json": {
              "type": "string"
            }
          },
          "metadata": {},
          "execution_count": 24
        }
      ]
    },
    {
      "cell_type": "code",
      "source": [
        "# 16. Create a class Animal with an abstract method sound(). Create two derived classes Cow and Sheep that implement the sound() method.\n",
        "''\n",
        "# Abstract class Animal\n",
        "class Animal():\n",
        "    def sound(self):\n",
        "        pass\n",
        "\n",
        "# Derived class Cow\n",
        "class Cow(Animal):\n",
        "    def sound(self):\n",
        "        return \"Moo\"\n",
        "\n",
        "# Derived class Sheep\n",
        "class Sheep(Animal):\n",
        "    def sound(self):\n",
        "        return \"Baa\"\n",
        "\n",
        "# Create instances of Cow and Sheep\n",
        "cow = Cow()\n",
        "sheep = Sheep()\n",
        "\n",
        "# Make sounds\n",
        "print(f\"Cow says: {cow.sound()}\")\n",
        "print(f\"Sheep says: {sheep.sound()}\")\n",
        "''"
      ],
      "metadata": {
        "colab": {
          "base_uri": "https://localhost:8080/",
          "height": 72
        },
        "id": "YvYNZ98qotCz",
        "outputId": "225331c6-159f-48ee-e8c8-312837709587"
      },
      "execution_count": 30,
      "outputs": [
        {
          "output_type": "stream",
          "name": "stdout",
          "text": [
            "Cow says: Moo\n",
            "Sheep says: Baa\n"
          ]
        },
        {
          "output_type": "execute_result",
          "data": {
            "text/plain": [
              "''"
            ],
            "application/vnd.google.colaboratory.intrinsic+json": {
              "type": "string"
            }
          },
          "metadata": {},
          "execution_count": 30
        }
      ]
    },
    {
      "cell_type": "code",
      "source": [
        "# 17. Create a class Book with attributes title, author, and year_published. Add a method get_book_info() that returns a formatted string with the book's details.\n",
        "''\n",
        "class Book:\n",
        "    def __init__(self, title, author, year_published):\n",
        "        self.title = title\n",
        "        self.author = author\n",
        "        self.year_published = year_published\n",
        "\n",
        "    def get_book_info(self):\n",
        "        return f\"'{self.title}' by {self.author}, published in {self.year_published}\"\n",
        "\n",
        "# Create instances of Book\n",
        "book1 = Book(\"To Kill a Mockingbird\", \"Harper Lee\", 1960)\n",
        "book2 = Book(\"1984\", \"George Orwell\", 1949)\n",
        "\n",
        "# Get book info\n",
        "print(book1.get_book_info())\n",
        "print(book2.get_book_info())\n",
        "\n",
        "''\n"
      ],
      "metadata": {
        "colab": {
          "base_uri": "https://localhost:8080/",
          "height": 72
        },
        "id": "2Bk_mnktpNW6",
        "outputId": "cb02bfd6-daa3-40ab-c09e-70771419453d"
      },
      "execution_count": 27,
      "outputs": [
        {
          "output_type": "stream",
          "name": "stdout",
          "text": [
            "'To Kill a Mockingbird' by Harper Lee, published in 1960\n",
            "'1984' by George Orwell, published in 1949\n"
          ]
        },
        {
          "output_type": "execute_result",
          "data": {
            "text/plain": [
              "''"
            ],
            "application/vnd.google.colaboratory.intrinsic+json": {
              "type": "string"
            }
          },
          "metadata": {},
          "execution_count": 27
        }
      ]
    },
    {
      "cell_type": "code",
      "source": [
        "# 18. Create a class House with attributes address and price. Create a derived class Mansion that adds an attribute number_of_rooms.\n",
        "''\n",
        "# Base class House\n",
        "class House:\n",
        "    def __init__(self, address, price):\n",
        "        self.address = address\n",
        "        self.price = price\n",
        "\n",
        "    def get_house_info(self):\n",
        "        return f\"Address: {self.address}, Price: ${self.price}\"\n",
        "\n",
        "# Derived class Mansion\n",
        "class Mansion(House):\n",
        "    def __init__(self, address, price, number_of_rooms):\n",
        "        super().__init__(address, price)\n",
        "        self.number_of_rooms = number_of_rooms\n",
        "\n",
        "    def get_house_info(self):\n",
        "        return f\"{super().get_house_info()}, Number of Rooms: {self.number_of_rooms}\"\n",
        "\n",
        "# Create instances of House and Mansion\n",
        "house = House(\"123 Main St\", 200000)\n",
        "mansion = Mansion(\"456 Estate Dr\", 1000000, 10)\n",
        "# Get house info\n",
        "print(house.get_house_info())\n",
        "print(mansion.get_house_info())\n",
        "''\n",
        "\n"
      ],
      "metadata": {
        "colab": {
          "base_uri": "https://localhost:8080/",
          "height": 72
        },
        "id": "ff28jfvupg7d",
        "outputId": "96305cdf-3f60-475d-e33c-a81b21ca7416"
      },
      "execution_count": 28,
      "outputs": [
        {
          "output_type": "stream",
          "name": "stdout",
          "text": [
            "Address: 123 Main St, Price: $200000\n",
            "Address: 456 Estate Dr, Price: $1000000, Number of Rooms: 10\n"
          ]
        },
        {
          "output_type": "execute_result",
          "data": {
            "text/plain": [
              "''"
            ],
            "application/vnd.google.colaboratory.intrinsic+json": {
              "type": "string"
            }
          },
          "metadata": {},
          "execution_count": 28
        }
      ]
    }
  ]
}